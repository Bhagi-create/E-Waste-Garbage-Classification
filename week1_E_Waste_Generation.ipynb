{
  "nbformat": 4,
  "nbformat_minor": 0,
  "metadata": {
    "colab": {
      "provenance": []
    },
    "kernelspec": {
      "name": "python3",
      "display_name": "Python 3"
    },
    "language_info": {
      "name": "python"
    }
  },
  "cells": [
    {
      "cell_type": "code",
      "execution_count": null,
      "metadata": {
        "colab": {
          "base_uri": "https://localhost:8080/"
        },
        "id": "a6coPsT-GCnE",
        "outputId": "38799f07-f5b9-400d-9712-c9831f5b6438"
      },
      "outputs": [
        {
          "output_type": "stream",
          "name": "stdout",
          "text": [
            "Downloading from https://www.kaggle.com/api/v1/datasets/download/akshat103/e-waste-image-dataset?dataset_version_number=1...\n"
          ]
        },
        {
          "output_type": "stream",
          "name": "stderr",
          "text": [
            "100%|██████████| 11.8M/11.8M [00:00<00:00, 161MB/s]"
          ]
        },
        {
          "output_type": "stream",
          "name": "stdout",
          "text": [
            "Extracting files...\n"
          ]
        },
        {
          "output_type": "stream",
          "name": "stderr",
          "text": [
            "\n"
          ]
        },
        {
          "output_type": "stream",
          "name": "stdout",
          "text": [
            "Path to dataset files: /root/.cache/kagglehub/datasets/akshat103/e-waste-image-dataset/versions/1\n"
          ]
        }
      ],
      "source": [
        "import kagglehub\n",
        "\n",
        "# Download latest version\n",
        "path = kagglehub.dataset_download(\"akshat103/e-waste-image-dataset\")\n",
        "\n",
        "print(\"Path to dataset files:\", path)"
      ]
    },
    {
      "cell_type": "code",
      "source": [
        "import tensorflow as tf  # Core TensorFlow library\n",
        "\n",
        "from tensorflow.keras import layers, models, optimizers, callbacks  # Layers, model creation, optimizers, and training callbacks\n",
        "\n",
        "from tensorflow.keras.models import Sequential, load_model  # For sequential model architecture and loading saved models\n",
        "\n",
        "from tensorflow.keras.applications import EfficientNetV2B0  # Pretrained EfficientNetV2B0 model for transfer learning\n",
        "\n",
        "from tensorflow.keras.applications.efficientnet import preprocess_input  # Preprocessing function specific to EfficientNet\n",
        "\n",
        "import numpy as np  # Numerical operations and array handling\n",
        "\n",
        "import matplotlib.pyplot as plt  # Plotting graphs and images\n",
        "\n",
        "import seaborn as sns  # Plotting graphs and images\n",
        "\n",
        "from sklearn.metrics import confusion_matrix, classification_report  # Evaluation metrics for classification models\n",
        "\n",
        "import gradio as gr  # Web interface library to deploy and test ML models\n",
        "\n",
        "from PIL import Image  # For image file loading and basic image operations\n",
        "\n",
        "import os\n",
        "\n",
        "import pandas as pd"
      ],
      "metadata": {
        "id": "08wOyFNoLDQb"
      },
      "execution_count": null,
      "outputs": []
    },
    {
      "cell_type": "code",
      "source": [
        "for dirname, _,filenames in os.walk('/kaggle/input'):\n",
        "  for filename in filenames:\n",
        "    print(os.path.join(dirname,filename))\n",
        "    print(filename)"
      ],
      "metadata": {
        "id": "PWpwmj2AMJH1"
      },
      "execution_count": null,
      "outputs": []
    },
    {
      "cell_type": "code",
      "source": [
        "train_folder = \"/root/.cache/kagglehub/datasets/akshat103/e-waste-image-dataset/versions/1/modified-dataset/train\"\n",
        "test_folder = \"/root/.cache/kagglehub/datasets/akshat103/e-waste-image-dataset/versions/1/modified-dataset/test\"\n",
        "val_folder = \"/root/.cache/kagglehub/datasets/akshat103/e-waste-image-dataset/versions/1/modified-dataset/val\""
      ],
      "metadata": {
        "id": "ChzhgtipNAgI"
      },
      "execution_count": null,
      "outputs": []
    },
    {
      "cell_type": "code",
      "source": [
        "def get_counts(folder):\n",
        "  counts={}\n",
        "  for class_folder in os.listdir(folder) :\n",
        "    class_path = os.path.join(folder,class_folder)\n",
        "    if os.path.isdir(class_path):\n",
        "      counts[class_folder] = len(os.listdir(class_path))\n",
        "  return counts"
      ],
      "metadata": {
        "id": "-QpXPzdTNa7O"
      },
      "execution_count": null,
      "outputs": []
    },
    {
      "cell_type": "code",
      "source": [
        "train_counts = get_counts(train_folder)\n",
        "test_counts = get_counts(test_folder)\n",
        "val_counts = get_counts(val_folder)\n",
        "print(train_counts)\n",
        "print(test_counts)\n",
        "print(val_counts)\n",
        "#This block contains the counts of the individual datasets(files) that is trained,test and split"
      ],
      "metadata": {
        "colab": {
          "base_uri": "https://localhost:8080/"
        },
        "id": "xxEnm31BOF6Z",
        "outputId": "efeb12b0-543d-4281-904e-59d9cda8fcaa"
      },
      "execution_count": null,
      "outputs": [
        {
          "output_type": "stream",
          "name": "stdout",
          "text": [
            "{'Television': 240, 'Printer': 240, 'Washing Machine': 240, 'Keyboard': 240, 'Player': 240, 'Microwave': 240, 'Mouse': 240, 'Mobile': 240, 'Battery': 240, 'PCB': 240}\n",
            "{'Television': 30, 'Printer': 30, 'Washing Machine': 30, 'Keyboard': 30, 'Player': 30, 'Microwave': 30, 'Mouse': 30, 'Mobile': 30, 'Battery': 30, 'PCB': 30}\n",
            "{'Television': 30, 'Printer': 30, 'Washing Machine': 30, 'Keyboard': 30, 'Player': 30, 'Microwave': 30, 'Mouse': 30, 'Mobile': 30, 'Battery': 30, 'PCB': 30}\n"
          ]
        }
      ]
    },
    {
      "cell_type": "code",
      "source": [
        "df_train = pd.DataFrame(list(train_counts.items()), columns=['Class', 'Count'])\n",
        "df_test = pd.DataFrame(list(test_counts.items()), columns=['Class', 'Count'])\n",
        "df_val = pd.DataFrame(list(val_counts.items()), columns=['Class', 'Count'])\n",
        "# The count of the datasets are converted to dataframes"
      ],
      "metadata": {
        "id": "UzSVCHj9PeHc"
      },
      "execution_count": null,
      "outputs": []
    },
    {
      "cell_type": "code",
      "source": [
        "import matplotlib.pyplot as plt\n",
        "\n",
        "#plot count for tain data\n",
        "plt.subplot(1,3,1)\n",
        "plt.bar(df_train['Class'], df_train['Count'], color = 'hotpink')\n",
        "plt.title('Train set')\n",
        "plt.ylabel('Count')\n",
        "plt.xticks(rotation=45, ha='right')\n",
        "\n",
        "#plot count for test data\n",
        "plt.subplot(1,3,2)\n",
        "plt.bar(df_test['Class'], df_test['Count'], color = 'yellow')\n",
        "plt.title('Test set')\n",
        "plt.xlabel('Class')\n",
        "plt.xticks(rotation=45, ha='right')\n",
        "\n",
        "#plot count for val data\n",
        "plt.subplot(1,3,3)\n",
        "plt.bar(df_val['Class'], df_val['Count'], color = 'green')\n",
        "plt.title('Val set')\n",
        "plt.xticks(rotation=45, ha='right')\n",
        "\n",
        "plt.figure(figsize=(25,19))\n",
        "plt.show()"
      ],
      "metadata": {
        "colab": {
          "base_uri": "https://localhost:8080/",
          "height": 572
        },
        "id": "jnI6vjdbSqcS",
        "outputId": "3f774959-20cc-47e1-83e0-e2de6b05c696"
      },
      "execution_count": null,
      "outputs": [
        {
          "output_type": "display_data",
          "data": {
            "text/plain": [
              "<Figure size 640x480 with 3 Axes>"
            ],
            "image/png": "[encoded data removed]"
          },
          "metadata": {}
        },
        {
          "output_type": "display_data",
          "data": {
            "text/plain": [
              "<Figure size 2500x1900 with 0 Axes>"
            ]
          },
          "metadata": {}
        }
      ]
    }
  ]
}